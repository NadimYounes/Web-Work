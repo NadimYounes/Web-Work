{
 "cells": [
  {
   "cell_type": "code",
   "execution_count": 2,
   "metadata": {},
   "outputs": [],
   "source": [
    "import requests \n",
    "import pandas as pd\n",
    "import time"
   ]
  },
  {
   "cell_type": "code",
   "execution_count": 6,
   "metadata": {
    "scrolled": true
   },
   "outputs": [
    {
     "data": {
      "text/plain": [
       "[[                0                1\n",
       "  0  Previous Close           131.20\n",
       "  1            Open           131.19\n",
       "  2             Bid    130.31 x 1400\n",
       "  3             Ask     131.14 x 800\n",
       "  4     Day's Range  130.26 - 131.63\n",
       "  5   52 Week Range  118.62 - 148.32\n",
       "  6          Volume          4324061\n",
       "  7     Avg. Volume          6496047,                           0             1\n",
       "  0                Market Cap      350.771B\n",
       "  1                      Beta          0.60\n",
       "  2            PE Ratio (TTM)        259.94\n",
       "  3                 EPS (TTM)          0.50\n",
       "  4             Earnings Date  Oct 16, 2018\n",
       "  5  Forward Dividend & Yield  3.60 (2.74%)\n",
       "  6          Ex-Dividend Date    2018-08-27\n",
       "  7             1y Target Est        143.35], [                0              1\n",
       "  0  Previous Close          66.00\n",
       "  1            Open          65.90\n",
       "  2             Bid   64.51 x 3200\n",
       "  3             Ask   66.71 x 3000\n",
       "  4     Day's Range  65.68 - 66.50\n",
       "  5   52 Week Range  52.83 - 66.99\n",
       "  6          Volume        7439672\n",
       "  7     Avg. Volume        9165696,                           0             1\n",
       "  0                Market Cap      175.715B\n",
       "  1                      Beta          1.10\n",
       "  2            PE Ratio (TTM)        136.23\n",
       "  3                 EPS (TTM)          0.49\n",
       "  4             Earnings Date  Oct 25, 2018\n",
       "  5  Forward Dividend & Yield  1.92 (2.88%)\n",
       "  6          Ex-Dividend Date    2018-09-14\n",
       "  7             1y Target Est         70.52], [                0              1\n",
       "  0  Previous Close          41.92\n",
       "  1            Open          42.36\n",
       "  2             Bid     0.00 x 800\n",
       "  3             Ask    44.58 x 800\n",
       "  4     Day's Range  41.08 - 42.45\n",
       "  5   52 Week Range  37.43 - 50.65\n",
       "  6          Volume        4399222\n",
       "  7     Avg. Volume        2306669,                           0             1\n",
       "  0                Market Cap      105.301B\n",
       "  1                      Beta          0.85\n",
       "  2            PE Ratio (TTM)           NaN\n",
       "  3                 EPS (TTM)           NaN\n",
       "  4             Earnings Date           NaN\n",
       "  5  Forward Dividend & Yield  1.86 (4.38%)\n",
       "  6          Ex-Dividend Date    2018-05-09\n",
       "  7             1y Target Est         46.00], [                0              1\n",
       "  0  Previous Close          78.04\n",
       "  1            Open          77.52\n",
       "  2             Bid    76.61 x 900\n",
       "  3             Ask    77.00 x 900\n",
       "  4     Day's Range  76.30 - 77.96\n",
       "  5   52 Week Range  64.27 - 89.54\n",
       "  6          Volume        4833223\n",
       "  7     Avg. Volume        6625595,\n",
       "                            0                            1\n",
       "  0                Market Cap                      99.468B\n",
       "  1                      Beta                         1.45\n",
       "  2            PE Ratio (TTM)                        45.84\n",
       "  3                 EPS (TTM)                         1.67\n",
       "  4             Earnings Date  Oct 24, 2018 - Oct 29, 2018\n",
       "  5  Forward Dividend & Yield                 2.28 (2.93%)\n",
       "  6          Ex-Dividend Date                   2018-09-13\n",
       "  7             1y Target Est                        87.87]]"
      ]
     },
     "execution_count": 6,
     "metadata": {},
     "output_type": "execute_result"
    }
   ],
   "source": [
    "pharma = ['JNJ','MRK','SNY','GILD'] #Make a list of Company Tickers you are interested in Scraping\n",
    "Stocks_info = [] # A list to append your results \n",
    "for i in pharma:\n",
    "    r2 = requests.get('https://finance.yahoo.com/quote/'+ str(i)).content #request to get html\n",
    "    content = pd.read_html(r2) #Use pandas to read the html from requests \n",
    "    Stocks_info.append(content)#Append the information\n",
    "    time.sleep(2)#Optional step \n",
    "Stocks_info   "
   ]
  },
  {
   "cell_type": "code",
   "execution_count": 20,
   "metadata": {},
   "outputs": [
    {
     "name": "stdout",
     "output_type": "stream",
     "text": [
      "                0                1\n",
      "0  Previous Close           131.20\n",
      "1            Open           131.19\n",
      "2             Bid    130.31 x 1400\n",
      "3             Ask     131.14 x 800\n",
      "4     Day's Range  130.26 - 131.63\n",
      "5   52 Week Range  118.62 - 148.32\n",
      "6          Volume          4324061\n",
      "7     Avg. Volume          6496047\n"
     ]
    }
   ],
   "source": [
    "# For each company, this method returns two sets of tables shown below \n",
    "JNJ_daily = Stocks_info[0][0] \n",
    "print(JNJ_daily)"
   ]
  },
  {
   "cell_type": "code",
   "execution_count": 21,
   "metadata": {},
   "outputs": [
    {
     "name": "stdout",
     "output_type": "stream",
     "text": [
      "                          0             1\n",
      "0                Market Cap      350.771B\n",
      "1                      Beta          0.60\n",
      "2            PE Ratio (TTM)        259.94\n",
      "3                 EPS (TTM)          0.50\n",
      "4             Earnings Date  Oct 16, 2018\n",
      "5  Forward Dividend & Yield  3.60 (2.74%)\n",
      "6          Ex-Dividend Date    2018-08-27\n",
      "7             1y Target Est        143.35\n"
     ]
    }
   ],
   "source": [
    "JNJ_overall = Stocks_info[0][1]\n",
    "print(JNJ_overall)"
   ]
  }
 ],
 "metadata": {
  "kernelspec": {
   "display_name": "Python 3",
   "language": "python",
   "name": "python3"
  },
  "language_info": {
   "codemirror_mode": {
    "name": "ipython",
    "version": 3
   },
   "file_extension": ".py",
   "mimetype": "text/x-python",
   "name": "python",
   "nbconvert_exporter": "python",
   "pygments_lexer": "ipython3",
   "version": "3.5.5"
  },
  "widgets": {
   "state": {},
   "version": "1.1.2"
  }
 },
 "nbformat": 4,
 "nbformat_minor": 2
}
