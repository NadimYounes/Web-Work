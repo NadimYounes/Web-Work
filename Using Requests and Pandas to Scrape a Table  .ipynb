{
 "cells": [
  {
   "cell_type": "code",
   "execution_count": 44,
   "metadata": {},
   "outputs": [],
   "source": [
    "import requests \n",
    "import pandas as pd\n",
    "import time"
   ]
  },
  {
   "cell_type": "code",
   "execution_count": 49,
   "metadata": {
    "scrolled": true
   },
   "outputs": [
    {
     "data": {
      "text/plain": [
       "[[                0                1\n",
       "  0  Previous Close           129.36\n",
       "  1            Open           129.14\n",
       "  2             Bid     128.47 x 100\n",
       "  3             Ask     128.49 x 100\n",
       "  4     Day's Range  128.36 - 129.22\n",
       "  5   52 Week Range  118.62 - 148.32\n",
       "  6          Volume          1128230\n",
       "  7     Avg. Volume          6524261,                           0             1\n",
       "  0                Market Cap       345.38B\n",
       "  1                      Beta          0.54\n",
       "  2            PE Ratio (TTM)        284.89\n",
       "  3                 EPS (TTM)          0.45\n",
       "  4             Earnings Date  Oct 16, 2018\n",
       "  5  Forward Dividend & Yield  3.60 (2.86%)\n",
       "  6          Ex-Dividend Date    2018-05-25\n",
       "  7             1y Target Est        143.20],\n",
       " [                                                   0\n",
       "  0  Will be right back...  Thank you for your pati...],\n",
       " [                0                1\n",
       "  0  Previous Close           42.630\n",
       "  1            Open           42.740\n",
       "  2             Bid    42.820 x 2800\n",
       "  3             Ask     42.830 x 400\n",
       "  4     Day's Range  42.710 - 42.880\n",
       "  5   52 Week Range  37.430 - 50.650\n",
       "  6          Volume           308938\n",
       "  7     Avg. Volume          2169493,                           0             1\n",
       "  0                Market Cap      107.466B\n",
       "  1                      Beta          0.85\n",
       "  2            PE Ratio (TTM)           NaN\n",
       "  3                 EPS (TTM)           NaN\n",
       "  4             Earnings Date           NaN\n",
       "  5  Forward Dividend & Yield  1.86 (4.38%)\n",
       "  6          Ex-Dividend Date    2018-05-09\n",
       "  7             1y Target Est         44.00],\n",
       " [                0              1\n",
       "  0  Previous Close          77.65\n",
       "  1            Open          77.47\n",
       "  2             Bid    78.25 x 400\n",
       "  3             Ask    78.27 x 300\n",
       "  4     Day's Range  77.29 - 78.54\n",
       "  5   52 Week Range  64.27 - 89.54\n",
       "  6          Volume        1484689\n",
       "  7     Avg. Volume        7338225,                           0             1\n",
       "  0                Market Cap      101.758B\n",
       "  1                      Beta          1.39\n",
       "  2            PE Ratio (TTM)         29.77\n",
       "  3                 EPS (TTM)          2.63\n",
       "  4             Earnings Date  Jul 25, 2018\n",
       "  5  Forward Dividend & Yield  2.28 (3.03%)\n",
       "  6          Ex-Dividend Date    2018-06-14\n",
       "  7             1y Target Est         86.17]]"
      ]
     },
     "execution_count": 49,
     "metadata": {},
     "output_type": "execute_result"
    }
   ],
   "source": [
    "pharma = ['JNJ','MRK','SNY','GILD']\n",
    "Stocks_info = []\n",
    "for i in pharma:\n",
    "    r2 = requests.get('https://finance.yahoo.com/quote/'+ str(i)).content\n",
    "    content = pd.read_html(r2)\n",
    "    Stocks_info.append(content)\n",
    "    time.sleep(2)\n",
    "Stocks_info   "
   ]
  },
  {
   "cell_type": "code",
   "execution_count": null,
   "metadata": {},
   "outputs": [],
   "source": []
  }
 ],
 "metadata": {
  "kernelspec": {
   "display_name": "Python 3",
   "language": "python",
   "name": "python3"
  },
  "language_info": {
   "codemirror_mode": {
    "name": "ipython",
    "version": 3
   },
   "file_extension": ".py",
   "mimetype": "text/x-python",
   "name": "python",
   "nbconvert_exporter": "python",
   "pygments_lexer": "ipython3",
   "version": "3.5.5"
  },
  "widgets": {
   "state": {},
   "version": "1.1.2"
  }
 },
 "nbformat": 4,
 "nbformat_minor": 2
}
